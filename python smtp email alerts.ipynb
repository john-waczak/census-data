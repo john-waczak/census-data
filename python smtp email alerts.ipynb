{
 "cells": [
  {
   "cell_type": "code",
   "execution_count": 2,
   "metadata": {},
   "outputs": [],
   "source": [
    "import smtplib"
   ]
  },
  {
   "cell_type": "code",
   "execution_count": 3,
   "metadata": {},
   "outputs": [],
   "source": [
    "gmail_user = 'teamlary.alerts'\n",
    "gmail_password = 'T34mL4ry!'"
   ]
  },
  {
   "cell_type": "code",
   "execution_count": 16,
   "metadata": {},
   "outputs": [],
   "source": [
    "#email properties\n",
    "sent_from = gmail_user\n",
    "to = ['john.waczak@utdallas.edu', 'john.louis.waczak@gmail.com', 'shawhin.talebi@utdallas.edu']\n",
    "subject = 'Testing the python email alerts system'\n",
    "\n",
    "email_text = \"\"\"\n",
    "This is a test email for the automatic python alerts system. \n",
    "\n",
    "\"\"\""
   ]
  },
  {
   "cell_type": "code",
   "execution_count": 17,
   "metadata": {},
   "outputs": [
    {
     "name": "stdout",
     "output_type": "stream",
     "text": [
      "Email sent!\n"
     ]
    }
   ],
   "source": [
    "#email send request\n",
    "try:\n",
    "    server = smtplib.SMTP_SSL('smtp.gmail.com', 465)\n",
    "    server.ehlo() # Identify yourself to an ESMTP server using EHLO.\n",
    "    server.login(gmail_user, gmail_password)\n",
    "    server.sendmail(sent_from, to, email_text)\n",
    "    server.close()\n",
    "\n",
    "    print ('Email sent!')\n",
    "except Exception as e:\n",
    "    print(e)\n",
    "    print ('Something went wrong...')"
   ]
  },
  {
   "cell_type": "code",
   "execution_count": null,
   "metadata": {},
   "outputs": [],
   "source": []
  }
 ],
 "metadata": {
  "kernelspec": {
   "display_name": "Python 3",
   "language": "python",
   "name": "python3"
  },
  "language_info": {
   "codemirror_mode": {
    "name": "ipython",
    "version": 3
   },
   "file_extension": ".py",
   "mimetype": "text/x-python",
   "name": "python",
   "nbconvert_exporter": "python",
   "pygments_lexer": "ipython3",
   "version": "3.8.2"
  }
 },
 "nbformat": 4,
 "nbformat_minor": 4
}
