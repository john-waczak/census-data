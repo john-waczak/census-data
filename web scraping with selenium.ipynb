{
 "cells": [
  {
   "cell_type": "markdown",
   "metadata": {},
   "source": [
    "# Selenium \n",
    "The following is based off of this youtube tutorial: **https://www.youtube.com/watch?v=GJjMjB3rkJM**\n",
    "\n",
    "Selenium is a package that will allow us to do webscraping by controlling our own browser. First, make sure to install the selenium package: `pip install Selenium` \n",
    "    \n",
    "Then, download a copy of the webdriver from your browswer of choice. For me, that's chrome: **https://chromedriver.chromium.org/downloads**"
   ]
  },
  {
   "cell_type": "code",
   "execution_count": 133,
   "metadata": {},
   "outputs": [],
   "source": [
    "from selenium import webdriver"
   ]
  },
  {
   "cell_type": "markdown",
   "metadata": {},
   "source": [
    "1. Set up the browser"
   ]
  },
  {
   "cell_type": "code",
   "execution_count": 134,
   "metadata": {},
   "outputs": [],
   "source": [
    "browser = webdriver.Chrome('/home/lary-research-pc/chromedriver')"
   ]
  },
  {
   "cell_type": "markdown",
   "metadata": {},
   "source": [
    "You should now see an open browser window. Let's try to navigate to a webpage: "
   ]
  },
  {
   "cell_type": "code",
   "execution_count": 135,
   "metadata": {},
   "outputs": [],
   "source": [
    "url = \"https://www.census.gov/cgi-bin/geo/shapefiles/index.php?year=2010&layergroup=Census+Tracts\"\n",
    "browser.get(url)"
   ]
  },
  {
   "cell_type": "markdown",
   "metadata": {},
   "source": [
    "Now let's grab some elements from the webpage and interact with them"
   ]
  },
  {
   "cell_type": "code",
   "execution_count": 136,
   "metadata": {},
   "outputs": [
    {
     "name": "stdout",
     "output_type": "stream",
     "text": [
      "True\n"
     ]
    }
   ],
   "source": [
    "#state_selection_bar_00 = browser.find_element_by_id('fips_87')\n",
    "#print(state_selection_bar_00.is_displayed())\n",
    "state_selection_bar_10 = browser.find_element_by_id('fips_81')\n",
    "print(state_selection_bar_10.is_displayed())"
   ]
  },
  {
   "cell_type": "code",
   "execution_count": 137,
   "metadata": {},
   "outputs": [],
   "source": [
    "#state_selection_bar_00.send_keys('Alaska')\n",
    "state_selection_bar_10.send_keys('Alaska')"
   ]
  },
  {
   "cell_type": "code",
   "execution_count": 138,
   "metadata": {},
   "outputs": [
    {
     "name": "stdout",
     "output_type": "stream",
     "text": [
      "False\n"
     ]
    }
   ],
   "source": [
    "download_button = browser.find_element_by_css_selector(\"input[type='button'][value='Download state file']\")\n",
    "print(download_button.is_displayed())"
   ]
  },
  {
   "cell_type": "code",
   "execution_count": 139,
   "metadata": {},
   "outputs": [
    {
     "name": "stdout",
     "output_type": "stream",
     "text": [
      "True\n"
     ]
    }
   ],
   "source": [
    "xpath = '//*[@id=\"div81\"]/input'\n",
    "actual_button = browser.find_element_by_xpath(xpath)\n",
    "print(actual_button.is_displayed())"
   ]
  },
  {
   "cell_type": "code",
   "execution_count": 140,
   "metadata": {},
   "outputs": [],
   "source": [
    "actual_button.click()"
   ]
  },
  {
   "cell_type": "code",
   "execution_count": null,
   "metadata": {},
   "outputs": [],
   "source": []
  }
 ],
 "metadata": {
  "kernelspec": {
   "display_name": "Python 3",
   "language": "python",
   "name": "python3"
  },
  "language_info": {
   "codemirror_mode": {
    "name": "ipython",
    "version": 3
   },
   "file_extension": ".py",
   "mimetype": "text/x-python",
   "name": "python",
   "nbconvert_exporter": "python",
   "pygments_lexer": "ipython3",
   "version": "3.8.2"
  }
 },
 "nbformat": 4,
 "nbformat_minor": 4
}
